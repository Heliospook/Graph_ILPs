{
 "cells": [
  {
   "cell_type": "code",
   "execution_count": 4,
   "metadata": {},
   "outputs": [],
   "source": [
    "from gurobipy import Model, GRB, quicksum\n",
    "import numpy as np"
   ]
  },
  {
   "cell_type": "code",
   "execution_count": null,
   "metadata": {},
   "outputs": [],
   "source": [
    "\n",
    "def check_colored_trails(M, k, c):\n",
    "    n = M.shape[0]\n",
    "    edges = [(i, j) for i in range(n) for j in range(n) if M[i, j] > 0]\n",
    "    m = len(edges)\n",
    "    \n",
    "    model = Model(\"Colored Trails\")\n",
    "    \n",
    "    # Decision variables: X[a, ij] for color a and edge ij\n",
    "    X = model.addVars(c, m, vtype=GRB.BINARY, name=\"X\")\n",
    "    \n",
    "    # Constraint 1: Edge weights in each color must be less than k\n",
    "    for a in range(c):\n",
    "        model.addConstr(quicksum(M[i, j] * X[a, e] for e, (i, j) in enumerate(edges)) <= k, f\"Weight_Limit_{a}\")\n",
    "    \n",
    "    p = {}\n",
    "    for a in range(c):\n",
    "        for u in range(n):\n",
    "            incoming = quicksum(X[a, e] for e, (v, uu) in enumerate(edges) if uu == u)\n",
    "            outgoing = quicksum(X[a, e] for e, (uu, v) in enumerate(edges) if uu == u)\n",
    "            p[u, a] = incoming - outgoing\n",
    "    \n",
    "    # Constraint 2: Summation of p(u, a) over all u must be 0 for each a\n",
    "    for a in range(c):\n",
    "        model.addConstr(quicksum(p[u, a] for u in range(n)) == 0, f\"Trails_{a}\")\n",
    "    \n",
    "    # Constraint 3: Summation of p(u, a)^2 over all u must be 2 for each a\n",
    "    for a in range(c):\n",
    "        model.addConstr(quicksum(p[u, a] * p[u, a] for u in range(n)) == 2, f\"Not_disjoint_{a}\")\n",
    "    \n",
    "    # Constraint 4: Each edge must be assigned to exactly one color\n",
    "    for e in range(m):\n",
    "        model.addConstr(quicksum(X[a, e] for a in range(c)) == 1, f\"Exactly_one_color{e}\")\n",
    "    \n",
    "    model.setParam(GRB.Param.OutputFlag, 0)\n",
    "    model.optimize()\n",
    "    \n",
    "    if model.status == GRB.OPTIMAL:\n",
    "        solution = np.zeros((c, m))\n",
    "        for a in range(c):\n",
    "            for e in range(m):\n",
    "                solution[a, e] = X[a, e].x\n",
    "        return True, solution\n",
    "    else:\n",
    "        return False, None"
   ]
  },
  {
   "cell_type": "code",
   "execution_count": 21,
   "metadata": {},
   "outputs": [
    {
     "data": {
      "text/plain": [
       "(True, array([[1., 1., 1.]]))"
      ]
     },
     "execution_count": 21,
     "metadata": {},
     "output_type": "execute_result"
    }
   ],
   "source": [
    "# Trivial case : path\n",
    "M = np.array([[0, 2, 0, 0],\n",
    "              [0, 0, 3, 0],\n",
    "              [0, 0, 0, 3],\n",
    "              [0, 0, 0, 0]])\n",
    "k = 8\n",
    "c = 1\n",
    "\n",
    "check_colored_trails(M, k, c)"
   ]
  },
  {
   "cell_type": "code",
   "execution_count": 26,
   "metadata": {},
   "outputs": [],
   "source": [
    "def compute_c(M, k):\n",
    "    n = M.shape[0]\n",
    "    l = 1\n",
    "    r = len([(i, j) for i in range(n) for j in range(n) if M[i, j] > 0])\n",
    "    \n",
    "    c = r\n",
    "    solution = []\n",
    "    while l <= r:\n",
    "        mid = (l + r)//2\n",
    "        feasible, _ = check_colored_trails(M, k, mid)\n",
    "        if feasible : \n",
    "            c = min(c, mid)\n",
    "            solution = _\n",
    "            r = mid - 1\n",
    "        else : \n",
    "            l = mid + 1\n",
    "    return c, solution"
   ]
  },
  {
   "cell_type": "code",
   "execution_count": 23,
   "metadata": {},
   "outputs": [
    {
     "data": {
      "text/plain": [
       "1"
      ]
     },
     "execution_count": 23,
     "metadata": {},
     "output_type": "execute_result"
    }
   ],
   "source": [
    "compute_c(M, k)"
   ]
  },
  {
   "cell_type": "code",
   "execution_count": 28,
   "metadata": {},
   "outputs": [
    {
     "data": {
      "text/plain": [
       "(3,\n",
       " array([[-0., -0.,  1., -0.],\n",
       "        [-0.,  1., -0., -0.],\n",
       "        [ 1., -0., -0.,  1.]]))"
      ]
     },
     "execution_count": 28,
     "metadata": {},
     "output_type": "execute_result"
    }
   ],
   "source": [
    "# Cross\n",
    "\n",
    "M = np.array([[0, 0, 0, 0, 2],\n",
    "              [0, 0, 0, 0, 4],\n",
    "              [0, 0, 0, 0, 0],\n",
    "              [0, 0, 0, 0, 0],\n",
    "              [0, 0, 7, 3, 0]])\n",
    "k = 7\n",
    "\n",
    "compute_c(M, k)"
   ]
  },
  {
   "cell_type": "code",
   "execution_count": null,
   "metadata": {},
   "outputs": [],
   "source": []
  }
 ],
 "metadata": {
  "kernelspec": {
   "display_name": "env",
   "language": "python",
   "name": "python3"
  },
  "language_info": {
   "codemirror_mode": {
    "name": "ipython",
    "version": 3
   },
   "file_extension": ".py",
   "mimetype": "text/x-python",
   "name": "python",
   "nbconvert_exporter": "python",
   "pygments_lexer": "ipython3",
   "version": "3.12.1"
  }
 },
 "nbformat": 4,
 "nbformat_minor": 2
}

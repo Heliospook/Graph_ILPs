{
 "cells": [
  {
   "cell_type": "code",
   "execution_count": 2,
   "metadata": {},
   "outputs": [],
   "source": [
    "import pandas as pd"
   ]
  },
  {
   "cell_type": "code",
   "execution_count": 3,
   "metadata": {},
   "outputs": [],
   "source": [
    "df = pd.read_csv(\"roundtrip.csv\")\n",
    "data = df.copy()[['station', 'start_day', 'start_time', 'next_available_day', 'next_available_time']]"
   ]
  },
  {
   "cell_type": "code",
   "execution_count": 4,
   "metadata": {},
   "outputs": [],
   "source": [
    "def toMinutes(day, time) : \n",
    "    h, m, s = map(lambda x : int(x.strip()), time.split(\":\"))\n",
    "    ret = day * 24 * 60 + h * 60 + m\n",
    "    return ret"
   ]
  },
  {
   "cell_type": "code",
   "execution_count": 5,
   "metadata": {},
   "outputs": [],
   "source": [
    "data.loc[:, \"l\"] = data.apply(lambda row : toMinutes(row[\"start_day\"], row[\"start_time\"]), axis = 1)\n",
    "data.loc[:, \"r\"] = data.apply(lambda row : toMinutes(row[\"next_available_day\"], row[\"next_available_time\"]) - 1, axis = 1)\n",
    "view = data.copy()[[\"station\", \"l\", \"r\"]]"
   ]
  },
  {
   "cell_type": "code",
   "execution_count": 6,
   "metadata": {},
   "outputs": [],
   "source": [
    "testcases = dict()\n",
    "week = 10080\n",
    "for _, row in view.iterrows():\n",
    "    tid, l, r = row[\"station\"], row[\"l\"], row[\"r\"]\n",
    "    if tid not in testcases : \n",
    "        testcases[tid] = []\n",
    "    for i in range(5):\n",
    "        testcases[tid].append((l + i * week, r + i * week))"
   ]
  },
  {
   "cell_type": "code",
   "execution_count": 7,
   "metadata": {},
   "outputs": [
    {
     "data": {
      "text/plain": [
       "2369.222304557243"
      ]
     },
     "execution_count": 7,
     "metadata": {},
     "output_type": "execute_result"
    }
   ],
   "source": [
    "intsm, intnum = 0, 0\n",
    "with open(f\"testcase.in\", \"w\") as f:\n",
    "    f.write(f\"{len(testcases)}\\n\")\n",
    "    for station, intervals in testcases.items():\n",
    "        n, y, x = len(intervals), 10080, 960\n",
    "        f.write(f\"\\n{n} {y} {x}\\n\")\n",
    "        for (l, r) in intervals:\n",
    "            if r < l : \n",
    "                r += week\n",
    "            intsm += r - l\n",
    "            intnum += 1\n",
    "            f.write(f\"{l} {r}\\n\")\n",
    "            \n",
    "intsm /= intnum\n",
    "intsm"
   ]
  },
  {
   "cell_type": "code",
   "execution_count": null,
   "metadata": {},
   "outputs": [],
   "source": []
  }
 ],
 "metadata": {
  "kernelspec": {
   "display_name": "Python 3",
   "language": "python",
   "name": "python3"
  },
  "language_info": {
   "codemirror_mode": {
    "name": "ipython",
    "version": 3
   },
   "file_extension": ".py",
   "mimetype": "text/x-python",
   "name": "python",
   "nbconvert_exporter": "python",
   "pygments_lexer": "ipython3",
   "version": "3.10.8"
  }
 },
 "nbformat": 4,
 "nbformat_minor": 2
}
